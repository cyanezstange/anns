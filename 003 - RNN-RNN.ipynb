{
 "cells": [
  {
   "cell_type": "code",
   "execution_count": null,
   "metadata": {},
   "outputs": [],
   "source": [
    "import torch\n",
    "import matplotlib.pyplot as plt"
   ]
  },
  {
   "cell_type": "code",
   "execution_count": null,
   "metadata": {},
   "outputs": [],
   "source": [
    "### PyTorch options.\n",
    "device = torch.device(\"cpu\") # \"cpu\", \"cuda:0\"."
   ]
  },
  {
   "cell_type": "markdown",
   "metadata": {},
   "source": [
    "$$ h_n = \\sigma \\left(x W_1   + h_{n-1} W_2 + b1\\right) $$\n",
    "$$ y_n = \\sigma \\left(h_n W_3 + y_{n-1} W_4 + b2\\right) $$"
   ]
  },
  {
   "cell_type": "code",
   "execution_count": null,
   "metadata": {},
   "outputs": [],
   "source": [
    "### Parameters.\n",
    "size_batch = 1\n",
    "size_x     = 1\n",
    "size_h     = 2\n",
    "\n",
    "x = torch.Tensor(size_batch, size_x, device=device)\n",
    "h1 = torch.Tensor(size_batch, size_h, device=device)\n",
    "h2 = torch.Tensor(size_batch, 1     , device=device)\n",
    "\n",
    "w1 = torch.randn(size_x    , size_h, device=device, requires_grad=True)\n",
    "w2 = torch.randn(size_h    , size_h, device=device, requires_grad=True)\n",
    "b1 = torch.randn(size_batch, size_h, device=device, requires_grad=True)\n",
    "\n",
    "w3 = torch.randn(size_h    ,1, device=device, requires_grad=True)\n",
    "w4 = torch.randn(1         ,1, device=device, requires_grad=True)\n",
    "b2 = torch.randn(size_batch,1, device=device, requires_grad=True)"
   ]
  },
  {
   "cell_type": "code",
   "execution_count": null,
   "metadata": {},
   "outputs": [],
   "source": [
    "### Data.\n",
    "T = torch.linspace(0, 100*3.141592653589793, 1000, device=device)\n",
    "X = T.sin()\n",
    "\n",
    "batches = torch.Tensor(device=device)\n",
    "for i in range(len(X)//size_batch):\n",
    "    batches = torch.cat((\n",
    "        batches,\n",
    "        X[i*size_batch: (i+1)*size_batch].reshape(1,size_batch,1)\n",
    "    ))"
   ]
  },
  {
   "cell_type": "code",
   "execution_count": null,
   "metadata": {},
   "outputs": [],
   "source": [
    "### Training.\n",
    "lr     = 1e-1\n",
    "epochs = 1\n",
    "\n",
    "output      = torch.Tensor(device=device)\n",
    "output_loss = torch.Tensor(device=device)\n",
    "\n",
    "# Main loop.\n",
    "for _ in range(epochs):\n",
    "    h1.zero_()\n",
    "    h2.zero_()\n",
    "    for x in batches:\n",
    "\n",
    "        # Forward.\n",
    "        y1 = ( x.mm(w1) + h1.mm(w2) + b1).tanh()\n",
    "        y2 = (y1.mm(w3) + h2.mm(w4) + b2).tanh()\n",
    "\n",
    "        loss = (x[:,0] - y2[:,0]).pow(2).sum()\n",
    "\n",
    "        output      = torch.cat((output     , y2[:,0].reshape(size_batch,1).data), 1)\n",
    "        output_loss = torch.cat((output_loss, loss.reshape(1).data),               0)\n",
    "\n",
    "        # Backward.\n",
    "        loss.backward()\n",
    "\n",
    "        # Update.\n",
    "        with torch.no_grad():\n",
    "            w1 -= lr*w1.grad\n",
    "            w2 -= lr*w2.grad\n",
    "            w3 -= lr*w3.grad\n",
    "            w4 -= lr*w4.grad\n",
    "            b1 -= lr*b1.grad\n",
    "            b2 -= lr*b2.grad\n",
    "\n",
    "            w1.grad.zero_()\n",
    "            w2.grad.zero_()\n",
    "            w3.grad.zero_()\n",
    "            w4.grad.zero_()\n",
    "            b1.grad.zero_()\n",
    "            b2.grad.zero_()\n",
    "\n",
    "            # RNN Magic.\n",
    "            h1.data = y1\n",
    "            h2.data = y2"
   ]
  },
  {
   "cell_type": "code",
   "execution_count": null,
   "metadata": {},
   "outputs": [],
   "source": [
    "p = slice(0,299)\n",
    "\n",
    "plt.figure(figsize=(15,8))\n",
    "plt.subplot(2,1,1)\n",
    "plt.plot(T[p], X[p])\n",
    "plt.plot(T[p], output.reshape(1000)[p])\n",
    "plt.title(\"Input, Output\")\n",
    "\n",
    "plt.subplot(2,1,2)\n",
    "plt.plot(T[p], (X*X*4)[p])\n",
    "plt.plot(T[p], output_loss[p])\n",
    "plt.title(\"Loss\")\n",
    "pass"
   ]
  }
 ],
 "metadata": {
  "kernelspec": {
   "display_name": "Python 3",
   "language": "python",
   "name": "python3"
  },
  "language_info": {
   "codemirror_mode": {
    "name": "ipython",
    "version": 3
   },
   "file_extension": ".py",
   "mimetype": "text/x-python",
   "name": "python",
   "nbconvert_exporter": "python",
   "pygments_lexer": "ipython3",
   "version": "3.7.3"
  }
 },
 "nbformat": 4,
 "nbformat_minor": 4
}
